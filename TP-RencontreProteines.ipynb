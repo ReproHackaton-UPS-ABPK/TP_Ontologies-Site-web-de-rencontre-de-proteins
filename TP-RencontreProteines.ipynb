{
 "cells": [
  {
   "cell_type": "markdown",
   "metadata": {},
   "source": [
    "AGUDELO Julian et PONCE Afonso - 2023\n",
    "# TD - Site web de rencontre de proteins\n",
    "\n",
    "A continuation, nous allons nous consacrer à la conception d'un site web fondé sur l'ontologie GO, une ontologie très utilisée en bio-informatique.\n",
    "\n",
    "### Sur Go :\n",
    "L'ontologie GO se compose de trois parties: les processus biologiques, les fonctions moléculaires, et les composants cellulaires.\n",
    "La troisième composante se concentre sur la description des éléments constitutifs d'une cellule, tels que les membranes, le noyau, et les organites.\n",
    "La gestion de cette troisième partie s'avère complexe en raison de la coexistence de deux types de hiérarchies. D'une part, une hiérarchie d'héritage classique avec des relations \"est-un\" caractérise la structure. D'autre part, une hiérarchie basée sur la relation \"partie-de\", connue sous le nom de méronymie, vise à décomposer la cellule en sous-parties, puis en sous-sous-parties, avec la cellule entière en tant que racine et les parties indivisibles en tant que feuilles.\n",
    "\n",
    "### Sur les fonctionnalités attendues du site web :\n",
    "Ce site offrira la possibilité d'entrer deux noms de protéines et de déterminer les compartiments cellulaires dans lesquels elles pourraient éventuellement interagir. D'un point de vue biologique, cette fonctionnalité revêt une importance particulière, car des protéines dépourvues d'un \"site de rencontre\" commun ne peuvent pas interagir entre elles."
   ]
  },
  {
   "cell_type": "code",
   "execution_count": 1,
   "metadata": {},
   "outputs": [],
   "source": [
    "# Commençons par importer les bibliothèques nécessaires\n",
    "from flask import Flask\n",
    "from owlready2 import *\n",
    "import mygene"
   ]
  },
  {
   "cell_type": "markdown",
   "metadata": {},
   "source": [
    "Owlready2 stocke tous les triples dans un objet 'World', et peut gérer plusieurs mondes en parallèle. 'default_world' est le monde utilisé par défaut.\n",
    "\n",
    "Owlready2 utilise un quadstore optimisé (comme les [Triplestore ou RDF store](https://en.wikipedia.org/wiki/Triplestore) , mais avec 4 composants) . Par défaut, le quadstore est stocké en mémoire, mais il peut également être stocké dans un fichier SQLite3. Cela permet la persistance."
   ]
  },
  {
   "cell_type": "code",
   "execution_count": null,
   "metadata": {},
   "outputs": [],
   "source": [
    "\n",
    "# La méthode .set_backend() de World définit le nom de fichier SQLite3 associé au quadstore, par exemple :\n",
    "default_world.set_backend(filename = \"quadstore.sqlite3\")\n",
    "\n",
    "# Une nouvelle ontologie vide peut être obtenue avec la fonction get_ontology() ; \n",
    "# elle prend un seul paramètre, l'IRI de l'ontologie. L'IRI est une sorte d'URL ; \n",
    "# les IRI sont utilisés comme identifiants pour les ontologies.\n",
    "go = get_ontology(\"http://purl.obolibrary.org/obo/go.owl#\").load()\n",
    "\n",
    "# EXPLIQUER LA PARTIE NAMESPACES https://owlready2.readthedocs.io/en/latest/namespace.html?highlight=get_namespace#namespaces\n",
    "obo = go.get_namespace(\"http://purl.obolibrary.org/obo/\")\n",
    "default_world.save()"
   ]
  }
 ],
 "metadata": {
  "kernelspec": {
   "display_name": "ontology",
   "language": "python",
   "name": "python3"
  },
  "language_info": {
   "codemirror_mode": {
    "name": "ipython",
    "version": 3
   },
   "file_extension": ".py",
   "mimetype": "text/x-python",
   "name": "python",
   "nbconvert_exporter": "python",
   "pygments_lexer": "ipython3",
   "version": "3.8.18"
  }
 },
 "nbformat": 4,
 "nbformat_minor": 2
}
