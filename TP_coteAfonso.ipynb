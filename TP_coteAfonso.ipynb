{
 "cells": [
  {
   "cell_type": "markdown",
   "metadata": {},
   "source": [
    "### Connexion à MyGene.Info \n",
    "\n",
    "Cette ligne est utilisée pour initialiser un objet qui permet d'interagir avec la base de données de gènes en utilisant l'API de [MyGene.info](https://mygene.info/). Ici, une instance de la classe MyGeneInfo est créée et assignée à la variable ```mg```. Cette instance sera utilisée pour effectuer des requêtes à la base de données de gènes via l'API MyGene.info.\n",
    "\n",
    "En résumé, cette ligne crée une connexion à la base de données de gènes MyGene.info, permettant au script d'interroger et de récupérer des informations sur les gènes et protéines spécifiés."
   ]
  },
  {
   "cell_type": "code",
   "execution_count": null,
   "metadata": {},
   "outputs": [],
   "source": [
    "mg = mygene.MyGeneInfo()"
   ]
  },
  {
   "cell_type": "markdown",
   "metadata": {},
   "source": [
    "La fonction chercher_proteine(nom_proteine) prend en argument le nom d'une protéine et utilise l'objet ```mg``` (qui est une instance de ```mygene.MyGeneInfo()```) pour interroger la base de données de gènes via l'API MyGene.info. Elle récupère ensuite les termes GO associés à la composante cellulaire (CC) de la protéine."
   ]
  },
  {
   "cell_type": "code",
   "execution_count": null,
   "metadata": {},
   "outputs": [],
   "source": [
    "def chercher_proteine(nom_proteine):\n",
    "    '''\n",
    "    Cette ligne effectue une requête à la base de données de gènes en utilisant le nom de la protéine (nom_proteine). \n",
    "    La requête est spécifiée pour retourner uniquement les informations sur la composante cellulaire (CC) des annotations GO (fields=\"go.CC.id\"), \n",
    "    pour l'espèce humaine (species=\"human\"), et la taille de la réponse est limitée à 1 (size=1).\n",
    "    '''\n",
    "    r = mg.query('name:\"%s\"' % nom_proteine, fields = \"go.CC.id\",species = \"human\", size = 1)\n",
    "    \n",
    "    '''\n",
    "    Si la réponse ne contient pas d'informations GO (indiquées par la clé \"go\" dans la première entrée des résultats), \n",
    "    la fonction retourne un ensemble vide. \n",
    "    '''\n",
    "    if not \"go\" in r[\"hits\"][0]: return set()\n",
    "  \n",
    "    '''\n",
    "    Les informations GO de la composante cellulaire sont extraites de la réponse. \n",
    "    Si ces informations ne sont pas sous forme de liste, elles sont converties en liste.\n",
    "    '''\n",
    "    cc = r[\"hits\"][0][\"go\"][\"CC\"]\n",
    "    if not isinstance(cc, list): cc = [cc]\n",
    "  \n",
    "    '''\n",
    "    La fonction itère à travers chaque élément de la liste d'annotations GO de la composante cellulaire. \n",
    "    Pour chaque élément, elle extrait l'identifiant GO (id_go), le convertit en un terme de l'ontologie GO (terme_go) \n",
    "    en utilisant l'objet obo, et ajoute ce terme à l'ensemble sites. Si le terme GO n'est pas trouvé dans l'ontologie, il est ignoré.\n",
    "    '''\n",
    "    sites = set()\n",
    "    for dico in cc:\n",
    "        id_go = dico[\"id\"]\n",
    "        terme_go = obo[id_go.replace(\":\", \"_\")]\n",
    "        if terme_go: sites.add(terme_go)\n",
    "    \n",
    "    return sites"
   ]
  },
  {
   "cell_type": "markdown",
   "metadata": {},
   "source": [
    "La fonction ``intersection_semantique(sites1, sites2)`` prend deux ensembles de sites GO (représentant les composantes cellulaires de deux protéines) en entrée et retourne l'ensemble des termes GO qui sont communs entre ces deux ensembles, tout en éliminant les sous-parties redondantes."
   ]
  },
  {
   "cell_type": "code",
   "execution_count": null,
   "metadata": {},
   "outputs": [],
   "source": [
    "def intersection_semantique(sites1, sites2):\n",
    "    '''\n",
    "    Ces boucles itèrent sur chaque site dans les ensembles sites1 et sites2 respectivement. \n",
    "    Pour chaque site, elle récupère toutes les sous-parties transitives de ce site et \n",
    "    les ajoute à l'ensemble correspondant (sous_parties1 ou sous_parties2).\n",
    "    '''\n",
    "    sous_parties1 = set()\n",
    "    for site in sites1:\n",
    "        sous_parties1.update(site.sous_parties_transitives())\n",
    "    \n",
    "    sous_parties2 = set()\n",
    "    for site in sites2:\n",
    "        sous_parties2.update(site.sous_parties_transitives())\n",
    "    \n",
    "    '''\n",
    "    Cette ligne calcule l'intersection des ensembles de sous-parties transitives des deux ensembles de sites.\n",
    "    '''\n",
    "    sites_communs = sous_parties1 & sous_parties2\n",
    "    \n",
    "    '''\n",
    "    Un dictionnaire cache est créé pour stocker les sous-parties transitives de chaque site commun. \n",
    "    Cela est fait pour éviter de recalculer les sous-parties transitives plusieurs fois.\n",
    "    '''\n",
    "    cache = { site : site.sous_parties_transitives()for site in sites_communs }\n",
    "  \n",
    "    '''\n",
    "    Cette double boucle vérifie pour chaque paire de sites communs s'il existe une relation d'inclusion\n",
    "    (une est une sous-partie de l'autre) dans le cache. Si tel est le cas, la sous-partie est considérée\n",
    "    comme redondante et ignorée. L'ensemble résultant, sites_communs_sans_sous_parties, contient les \n",
    "    termes GO communs sans les sous-parties redondantes.\n",
    "    '''\n",
    "    sites_communs_sans_sous_parties = set()\n",
    "    for site in sites_communs:\n",
    "        for site2 in sites_communs:\n",
    "            if (not site2 is site) and (site in cache[site2]): break\n",
    "        else:\n",
    "            sites_communs_sans_sous_parties.add(site)\n",
    "  \n",
    "    return sites_communs_sans_sous_parties"
   ]
  },
  {
   "cell_type": "markdown",
   "metadata": {},
   "source": [
    "### Création d'une page web\n",
    "\n",
    "Ce script Flask crée une interface web simple permettant à l'utilisateur de saisir le nom de deux protéines. La route \"/resultat\" utilise les fonctions `chercher_proteine` et `intersection_semantique` pour récupérer les sites GO associés à chaque protéine et affiche les résultats sur une page web. La page de saisie (\"/\") génère un formulaire avec deux champs de saisie. Lors de la soumission, l'utilisateur est redirigé vers la page de résultats, où les sites GO associés à chaque protéine et les sites GO communs sont affichés dans une page HTML triée et lisible. L'application Flask est exécutée sur le port 5000 du serveur local."
   ]
  },
  {
   "cell_type": "code",
   "execution_count": null,
   "metadata": {},
   "outputs": [],
   "source": [
    "@app.route('/')\n",
    "def page_saisie():\n",
    "    html  = \"\"\"\n",
    "<html><body>\n",
    "  <form action=\"/resultat\">\n",
    "    Protéine 1: <input type=\"text\" name=\"prot1\"/><br/><br/>\n",
    "    Protéine 2: <input type=\"text\" name=\"prot2\"/><br/><br/>\n",
    "    <input type=\"submit\"/>\n",
    "  </form>\n",
    "</body></html>\"\"\"\n",
    "    return html\n",
    "  \n",
    "@app.route('/resultat')\n",
    "def page_resultat():\n",
    "    prot1 = request.args.get(\"prot1\", \"\")\n",
    "    prot2 = request.args.get(\"prot2\", \"\")\n",
    "  \n",
    "    sites1 = chercher_proteine(prot1)\n",
    "    sites2 = chercher_proteine(prot2)\n",
    "  \n",
    "    sites_communs = intersection_semantique(sites1, sites2)\n",
    "  \n",
    "    html  = \"\"\"<html><body>\"\"\"\n",
    "    html += \"\"\"<h3>Site de la protéine 1 (%s)</h3>\"\"\" % prot1\n",
    "    if sites1:\n",
    "        html += \"<br/>\".join(sorted(str(site) for site in sites1))\n",
    "    else:\n",
    "        html += \"(Aucun)<br/>\"\n",
    "  \n",
    "    html += \"\"\"<h3>Site de la protéine 2 (%s)</h3>\"\"\" % prot2\n",
    "    if sites2:\n",
    "        html += \"<br/>\".join(sorted(str(site) for site in sites2))\n",
    "    else:\n",
    "        html += \"(Aucun)<br/>\"\n",
    "  \n",
    "    html += \"\"\"<h3>Sites de rencontre possibles</h3>\"\"\"\n",
    "    if sites_communs:\n",
    "        html += \"<br/>\".join(sorted(str(site) for site in sites_communs))\n",
    "    else:\n",
    "        html += \"(Aucun)<br/>\"\n",
    "    \n",
    "    html += \"\"\"</body></html>\"\"\"\n",
    "    return html\n",
    "  \n",
    "import werkzeug.serving\n",
    "werkzeug.serving.run_simple(\"localhost\", 5000, app)"
   ]
  }
 ],
 "metadata": {
  "language_info": {
   "name": "python"
  }
 },
 "nbformat": 4,
 "nbformat_minor": 2
}
